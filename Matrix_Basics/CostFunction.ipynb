{
 "cells": [
  {
   "cell_type": "code",
   "execution_count": 1,
   "id": "50931f91-dde9-46c9-ae84-f61c373a7026",
   "metadata": {},
   "outputs": [],
   "source": [
    "import numpy as np\n",
    "y_predicted = np.array([1,1,0,0,1])\n",
    "y_true = np.array([0.3,0.7,1,0,0.5])"
   ]
  },
  {
   "cell_type": "code",
   "execution_count": 11,
   "id": "fa5da08f-8de1-491b-a14d-ce1777e2fd3b",
   "metadata": {},
   "outputs": [],
   "source": [
    "def mae(y_true , y_predicted):\n",
    "    totalerrors = 0\n",
    "    for yt,yp in zip(y_true,y_predicted):\n",
    "        totalerrors += abs(yp-yt)\n",
    "    \n",
    "    print(\"Total Error is \" , totalerrors)\n",
    "    return totalerrors/len(y_true)"
   ]
  },
  {
   "cell_type": "code",
   "execution_count": 12,
   "id": "43ae3233-1900-4e5f-abd1-f86d8bd3c755",
   "metadata": {},
   "outputs": [
    {
     "name": "stdout",
     "output_type": "stream",
     "text": [
      "Total Error is  2.5\n"
     ]
    },
    {
     "data": {
      "text/plain": [
       "0.5"
      ]
     },
     "execution_count": 12,
     "metadata": {},
     "output_type": "execute_result"
    }
   ],
   "source": [
    "mae(y_true,y_predicted)"
   ]
  },
  {
   "cell_type": "code",
   "execution_count": 18,
   "id": "8cd4216f-ab71-4694-a95d-8828417a6221",
   "metadata": {},
   "outputs": [
    {
     "data": {
      "text/plain": [
       "0.5"
      ]
     },
     "execution_count": 18,
     "metadata": {},
     "output_type": "execute_result"
    }
   ],
   "source": [
    "np.mean(np.abs(y_true - y_predicted))"
   ]
  },
  {
   "cell_type": "code",
   "execution_count": null,
   "id": "27bb9ce7-b6ce-412f-a117-e3b3d9b0939a",
   "metadata": {},
   "outputs": [],
   "source": []
  }
 ],
 "metadata": {
  "kernelspec": {
   "display_name": "Python 3 (ipykernel)",
   "language": "python",
   "name": "python3"
  },
  "language_info": {
   "codemirror_mode": {
    "name": "ipython",
    "version": 3
   },
   "file_extension": ".py",
   "mimetype": "text/x-python",
   "name": "python",
   "nbconvert_exporter": "python",
   "pygments_lexer": "ipython3",
   "version": "3.12.7"
  }
 },
 "nbformat": 4,
 "nbformat_minor": 5
}
