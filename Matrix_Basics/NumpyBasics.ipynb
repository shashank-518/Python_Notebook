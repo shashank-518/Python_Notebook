{
 "cells": [
  {
   "cell_type": "code",
   "execution_count": 1,
   "id": "5576ed85-23d3-43c5-9de6-306104705895",
   "metadata": {},
   "outputs": [],
   "source": [
    "import numpy as np"
   ]
  },
  {
   "cell_type": "code",
   "execution_count": 4,
   "id": "4a403c79-2f72-42bb-81b8-5ea159419746",
   "metadata": {},
   "outputs": [],
   "source": [
    "revenue = np.array([[100,120,450] , [350,560,780] , [456,789,890] ])\n",
    "expenses = np.array([[60,100,250] , [200,250,450] , [123,567,678]])"
   ]
  },
  {
   "cell_type": "code",
   "execution_count": 5,
   "id": "d2bc37fa-6fd8-4aac-8fad-92c40491e864",
   "metadata": {},
   "outputs": [
    {
     "data": {
      "text/plain": [
       "array([[ 40,  20, 200],\n",
       "       [150, 310, 330],\n",
       "       [333, 222, 212]])"
      ]
     },
     "execution_count": 5,
     "metadata": {},
     "output_type": "execute_result"
    }
   ],
   "source": [
    "profit = revenue - expenses\n",
    "profit"
   ]
  },
  {
   "cell_type": "code",
   "execution_count": 9,
   "id": "041f3a9b-7b48-428b-9209-6fb1a2a98d40",
   "metadata": {},
   "outputs": [],
   "source": [
    "# This concept in numpy is called Broadcasting if the array \n",
    "price_per_unit = np.array([1000,400,3000])\n",
    "units = np.array([[3,4,5] , [6,3,4] , [2,3,4]])"
   ]
  },
  {
   "cell_type": "code",
   "execution_count": 7,
   "id": "b57d88e7-0ff6-4821-912c-1c0393f4f10d",
   "metadata": {},
   "outputs": [],
   "source": [
    "sales = price_per_unit * units"
   ]
  },
  {
   "cell_type": "code",
   "execution_count": 8,
   "id": "b5c798d8-65a9-47df-9bf1-5867c56de4b2",
   "metadata": {},
   "outputs": [
    {
     "data": {
      "text/plain": [
       "array([[ 3000,  1600, 15000],\n",
       "       [ 6000,  1200, 12000],\n",
       "       [ 2000,  1200, 12000]])"
      ]
     },
     "execution_count": 8,
     "metadata": {},
     "output_type": "execute_result"
    }
   ],
   "source": [
    "sales"
   ]
  },
  {
   "cell_type": "code",
   "execution_count": null,
   "id": "04f941fe-e5b1-4888-b850-4232e02061da",
   "metadata": {},
   "outputs": [],
   "source": []
  }
 ],
 "metadata": {
  "kernelspec": {
   "display_name": "Python 3 (ipykernel)",
   "language": "python",
   "name": "python3"
  },
  "language_info": {
   "codemirror_mode": {
    "name": "ipython",
    "version": 3
   },
   "file_extension": ".py",
   "mimetype": "text/x-python",
   "name": "python",
   "nbconvert_exporter": "python",
   "pygments_lexer": "ipython3",
   "version": "3.12.7"
  }
 },
 "nbformat": 4,
 "nbformat_minor": 5
}
