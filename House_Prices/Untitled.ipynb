{
 "cells": [
  {
   "cell_type": "code",
   "execution_count": 1,
   "id": "b3e93876-bf5d-478f-a19f-735712d8df31",
   "metadata": {},
   "outputs": [],
   "source": [
    "import pandas as pd\n",
    "import numpy as np\n",
    "from sklearn.model_selection import train_test_split\n",
    "from sklearn.preprocessing import StandardScaler, LabelEncoder\n",
    "import tensorflow as tf\n",
    "from tensorflow.keras.models import Sequential\n",
    "from tensorflow.keras.layers import Dense, Dropout"
   ]
  },
  {
   "cell_type": "code",
   "execution_count": 3,
   "id": "7c886067-cc1f-4638-b5bf-3f5063d32590",
   "metadata": {},
   "outputs": [],
   "source": [
    "#df = pd.read_csv('Houseprice.csv')"
   ]
  },
  {
   "cell_type": "code",
   "execution_count": 5,
   "id": "4a92ed55-0a0c-489a-9602-450161f75879",
   "metadata": {},
   "outputs": [],
   "source": [
    "bins = [0,100000,300000,500000,np.inf]"
   ]
  },
  {
   "cell_type": "code",
   "execution_count": 6,
   "id": "2e701698-858c-42e2-bb43-cd6308211b9d",
   "metadata": {},
   "outputs": [],
   "source": [
    "labels = ['low' , 'medium' , 'high' , 'veryHigh']"
   ]
  },
  {
   "cell_type": "code",
   "execution_count": null,
   "id": "9e6640c3-c5e8-456b-bc9c-566490810ddc",
   "metadata": {},
   "outputs": [],
   "source": []
  }
 ],
 "metadata": {
  "kernelspec": {
   "display_name": "Python 3 (ipykernel)",
   "language": "python",
   "name": "python3"
  },
  "language_info": {
   "codemirror_mode": {
    "name": "ipython",
    "version": 3
   },
   "file_extension": ".py",
   "mimetype": "text/x-python",
   "name": "python",
   "nbconvert_exporter": "python",
   "pygments_lexer": "ipython3",
   "version": "3.12.7"
  }
 },
 "nbformat": 4,
 "nbformat_minor": 5
}
